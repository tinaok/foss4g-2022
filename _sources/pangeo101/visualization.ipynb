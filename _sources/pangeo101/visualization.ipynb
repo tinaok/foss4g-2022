{
 "cells": [
  {
   "cell_type": "markdown",
   "id": "1bfbae7a-12f1-4787-a520-c3de7529168d",
   "metadata": {
    "pycharm": {
     "name": "#%% md\n"
    }
   },
   "source": [
    "# Interactive plotting with HoloViews"
   ]
  },
  {
   "cell_type": "markdown",
   "id": "887cc17d-fbb2-430b-b73b-4eb494361a5f",
   "metadata": {
    "pycharm": {
     "name": "#%% md\n"
    }
   },
   "source": [
    "## Authors & Contributors\n",
    "\n",
    "### Authors\n",
    "\n",
    "- Pier Lorenzo Marasco, Ispra (Italy), [@pl-marasco](https://github.com/pl-marasco)\n",
    "\n",
    "### Contributors\n",
    "\n",
    "- Alejandro Coca-Castro, The Alan Turing Institute (United Kingdom), [@acocac](https://github.com/acocac)\n",
    "- Anne Fouilloux, University of Oslo (Norway), @annefou"
   ]
  },
  {
   "cell_type": "markdown",
   "id": "ffa7efb4-455f-4d93-86e9-0e80b42dc922",
   "metadata": {
    "pycharm": {
     "name": "#%% md\n"
    }
   },
   "source": [
    "<div class=\"alert alert-info\">\n",
    "<i class=\"fa-question-circle fa\" style=\"font-size: 22px;color:#666;\"></i> Overview\n",
    "    <br>\n",
    "    <br>\n",
    "    <b>Questions</b>\n",
    "    <ul>\n",
    "        <li>How to clip Xarray DataSet with a shapefile to plot an area of interest?</li>\n",
    "        <li>How to generate interactive maps with Holoviews?</li>\n",
    "        <li>How to browse multiple times with Holoviews interactive maps?</li>\n",
    "        <li>How to generate an interactive 1D plot with Holoviews?</li>\n",
    "    </ul>\n",
    "    <b>Objectives</b>\n",
    "    <ul>\n",
    "        <li>Learn about Holoviews and Xarray for creating interactive plots</li>\n",
    "        <li>Learn to create interactive maps with Holoviews</li>\n",
    "        <li>Learn to create multiple interactive plots with holoviews</li>\n",
    "        <li>Learn to create a 1D line plot with holoviews</li>\n",
    "    </ul>\n",
    "</div>"
   ]
  },
  {
   "cell_type": "markdown",
   "id": "7ed6ca38-ef36-46fa-92f2-e1de6387df90",
   "metadata": {
    "pycharm": {
     "name": "#%% md\n"
    }
   },
   "source": [
    "## Context\n",
    "\n",
    "\n",
    "We will be using [HoloViews](https://holoviews.org/), a tool part of the [HoloViz](https://holoviz.org/) ecosystem, with Xarray to visualize the Vegetation Condition Index (VCI) {cite:ps}`b-kogan1995-VCI`, a well-established indicator to estimate droughts from remote sensing data.\n",
    "\n",
    "### Data\n",
    "\n",
    "We will use data that have been generated in the previous episode.\n",
    "\n",
    "If the dataset is not present in the same folder as this Jupyter notebook, it will be downloaded from zenodo using `pooch`, a very handy python-based library to download and cache your data files locally (see further info [here](https://www.fatiando.org/pooch/latest/index.html))."
   ]
  },
  {
   "cell_type": "code",
   "execution_count": null,
   "id": "922d0fc9-c6e7-4bff-b968-f48f8e4c45e2",
   "metadata": {
    "pycharm": {
     "name": "#%%\n"
    }
   },
   "outputs": [],
   "source": [
    "import pooch\n",
    "\n",
    "cgls_file = pooch.retrieve(\n",
    "    url=\"https://zenodo.org/record/6969999/files/C_GLS_NDVI_20220101_20220701_Lombardia_S3_2_masked.nc\",\n",
    "    known_hash=\"md5:be3f16913ebbdb4e7af227f971007b22\",\n",
    "    path=f\".\",\n",
    ")"
   ]
  },
  {
   "cell_type": "markdown",
   "id": "d0cb2888-33e0-498a-a157-77c30e8b56e3",
   "metadata": {
    "pycharm": {
     "name": "#%% md\n"
    }
   },
   "source": [
    "## Setup\n",
    "\n",
    "This episode uses the following main Python packages:\n",
    "\n",
    "- xarray {cite:ps}`b-xarray-hoyer2017` with [`netCDF4`](https://pypi.org/project/h5netcdf/) and [`h5netcdf`](https://pypi.org/project/h5netcdf/) engines\n",
    "- pooch {cite:ps}`b-pooch-Uieda2020`\n",
    "- rioxarray {cite:ps}`b-rioxarray-snow2022`\n",
    "- matplotlib {cite:ps}`b-matplotlib-Hunter2007`\n",
    "- cartopy {cite:ps}`b-cartopy-mo2010`\n",
    "- hvplot {cite:ps}`b-holoviews-rudiger2020`\n",
    "- geopandas {cite:ps}`b-geopandas-jordahl2020`\n",
    "\n",
    "Please install these packages if not already available in your Python environment.\n",
    "\n",
    "### Packages\n",
    "\n",
    "In this episode, Python packages are imported when we start to use them. However, for best software practices, we recommend you to install and import all the necessary libraries at the top of your Jupyter notebook."
   ]
  },
  {
   "cell_type": "code",
   "execution_count": null,
   "id": "0e5a6f07-96f3-4ec3-839c-9406537a8772",
   "metadata": {
    "pycharm": {
     "name": "#%%\n"
    }
   },
   "outputs": [],
   "source": [
    "import xarray as xr"
   ]
  },
  {
   "cell_type": "markdown",
   "id": "2559eaa8-2329-43cc-9a46-24902d57e638",
   "metadata": {
    "pycharm": {
     "name": "#%% md\n"
    }
   },
   "source": [
    "## Open local dataset"
   ]
  },
  {
   "cell_type": "code",
   "execution_count": null,
   "id": "b1d4f718-8ff6-46f2-bbbe-7e61146a31b2",
   "metadata": {
    "pycharm": {
     "name": "#%%\n"
    }
   },
   "outputs": [],
   "source": [
    "cgls_ds = xr.open_dataset(cgls_file)"
   ]
  },
  {
   "cell_type": "markdown",
   "id": "8f81fd6f-8404-463f-b2b3-0461751ceb40",
   "metadata": {
    "pycharm": {
     "name": "#%% md\n"
    }
   },
   "source": [
    ":::{tip}\n",
    "If you get an error with the previous command, check the previous episode where the input file some_hash-C_GLS_NDVI_20220101_20220701_Lombardia_S3_2_masked.netcdf is downloaded locally and it is in the same directory as your Jupyter Notebook.\n",
    ":::"
   ]
  },
  {
   "cell_type": "code",
   "execution_count": null,
   "id": "5bba0cf9-9e60-4c96-a395-04a320bf2256",
   "metadata": {
    "pycharm": {
     "name": "#%%\n"
    }
   },
   "outputs": [],
   "source": [
    "cgls_ds"
   ]
  },
  {
   "cell_type": "markdown",
   "id": "36fc3ec9-dd1c-407c-970e-d7ec72d8091f",
   "metadata": {
    "pycharm": {
     "name": "#%% md\n"
    }
   },
   "source": [
    "## Clipping data according to a polygon\n",
    "\n",
    "One of the basic concepts in GIS is to clip data using a vector geometry. Xarray is not directly capable of dealing with vectors but thanks to Rioxarray that can be easily achieved.\n",
    "Rioxarray extends Xarray with most of the features that Rasterio (GDAL) brings."
   ]
  },
  {
   "cell_type": "markdown",
   "id": "78108184-a080-48bd-a7a9-100f0c071ff4",
   "metadata": {
    "pycharm": {
     "name": "#%% md\n"
    }
   },
   "source": [
    "## Read a shapefile with the Area Of Interest (AOI)"
   ]
  },
  {
   "cell_type": "code",
   "execution_count": null,
   "id": "b75a026f-aab2-4178-ac70-5f53e0076b4e",
   "metadata": {
    "pycharm": {
     "name": "#%%\n"
    }
   },
   "outputs": [],
   "source": [
    "import geopandas as gpd"
   ]
  },
  {
   "cell_type": "markdown",
   "id": "dda54b46-877c-4fe1-8a32-eedbd9425cd7",
   "metadata": {
    "pycharm": {
     "name": "#%% md\n"
    }
   },
   "source": [
    "We define the area of interest using the Global Administrative Unit Layers [GAUL G2015_2014](https://data.apps.fao.org/map/catalog/srv/eng/catalog.search#/metadata/9c35ba10-5649-41c8-bdfc-eb78e9e65654) provided by FAO-UN (see [Documentation](https://data.apps.fao.org/map/catalog/srv/api/records/9c35ba10-5649-41c8-bdfc-eb78e9e65654/attachments/GAUL2015_Documentation.zip)).\n",
    "[`GeoPandas`](https://geopandas.org/en/stable/), a python-based library extending the capabilities of [`Pandas`](https://pandas.pydata.org/) to deal with geometry and spatial operations, will help to manage geodata.\n",
    "\n",
    "The official data distribution from FAO is through the WFS service (see below how to retrieve data):\n",
    "\n",
    "```\n",
    "GAUL = gpd.read_file('https://data.apps.fao.org/map/gsrv/gsrv1/gaul/wfs?'\n",
    "                     'service=WFS&version=2.0.0&'\n",
    "                     'Request=GetFeature&'\n",
    "                     'TypeNames=gaul:g2015_2014_2&'\n",
    "                     'srsName=EPSG%3A4326&'\n",
    "                     'maxFeatures=2500&'\n",
    "                     'outputFormat=json')\n",
    "```\n",
    "Unfortunately it seems that the service is pretty slow. As an alternative to this approach the JRC MARS unit is distributing the original dataset that was in shapefile format. To accelerate the fetch we highly recommend to follow this approach.\n",
    "\n",
    "For the training course, we also created a tiny file containing information about Italy only."
   ]
  },
  {
   "cell_type": "code",
   "execution_count": null,
   "id": "b0271cbf-9996-4b35-bad9-c65a0020254a",
   "metadata": {
    "pycharm": {
     "name": "#%%\n"
    }
   },
   "outputs": [],
   "source": [
    "try:\n",
    "    GAUL = gpd.read_file('Italy.geojson')\n",
    "except:\n",
    "    GAUL = gpd.read_file('zip+https://mars.jrc.ec.europa.eu/asap/files/gaul1_asap.zip') "
   ]
  },
  {
   "cell_type": "markdown",
   "id": "c2000a58-7117-4c2c-bcc2-5fc94b76ea90",
   "metadata": {
    "pycharm": {
     "name": "#%% md\n"
    }
   },
   "source": [
    "Data are organized in a tabular structure. For each element an index, data (made of columns) and a geometry are defined.\n",
    "\n",
    "Geometries are defined through [shapely](https://shapely.readthedocs.io/en/stable/) geometry objects with three different basic classes:\n",
    "\n",
    "- Points and Multi-Points\n",
    "- Lines and Multi-Lines\n",
    "- Polygons and Multi-Polygons"
   ]
  },
  {
   "cell_type": "code",
   "execution_count": null,
   "id": "303bf5c0-a306-49a9-862b-56cc988911f6",
   "metadata": {
    "pycharm": {
     "name": "#%%\n"
    }
   },
   "outputs": [],
   "source": [
    "GAUL.head(5)"
   ]
  },
  {
   "cell_type": "markdown",
   "id": "f365c77b-e975-43d8-8b50-7982bdd805d9",
   "metadata": {
    "pycharm": {
     "name": "#%% md\n"
    }
   },
   "source": [
    "In the cell below, we subset the polygon geometry in which the `name1` field equals to `Lombardia`."
   ]
  },
  {
   "cell_type": "code",
   "execution_count": null,
   "id": "cffb2720-f24f-42c8-af9d-2b894dd36e65",
   "metadata": {
    "pycharm": {
     "name": "#%%\n"
    }
   },
   "outputs": [],
   "source": [
    "AOI_name = 'Lombardia'\n",
    "AOI = GAUL[GAUL.name1 == AOI_name]\n",
    "AOI_poly = AOI.geometry\n",
    "AOI_poly"
   ]
  },
  {
   "cell_type": "markdown",
   "id": "43c0f538-6480-41a6-b052-2d71cc603319",
   "metadata": {
    "pycharm": {
     "name": "#%% md\n"
    }
   },
   "source": [
    "In a second step we set a EPSG:4326 Geodetic coordinate reference system to the polygon geometry."
   ]
  },
  {
   "cell_type": "code",
   "execution_count": null,
   "id": "badbac77-62f4-421d-a19f-ad80c10e63f5",
   "metadata": {
    "pycharm": {
     "name": "#%%\n"
    }
   },
   "outputs": [],
   "source": [
    "cgls_ds = cgls_ds.NDVI.rio.write_crs(4326)"
   ]
  },
  {
   "cell_type": "markdown",
   "id": "7d12c04b-97d0-427c-90f4-dcc7eeffa1ac",
   "metadata": {
    "pycharm": {
     "name": "#%% md\n"
    }
   },
   "source": [
    "Once this has been done we can clip the data with the polygon that has been obtained through geopandas at the beginning of the notebook."
   ]
  },
  {
   "cell_type": "code",
   "execution_count": null,
   "id": "238b7d38-e765-4fd6-82b6-77e8c076b90a",
   "metadata": {
    "pycharm": {
     "name": "#%%\n"
    }
   },
   "outputs": [],
   "source": [
    "NDVI_AOI = cgls_ds.rio.clip(AOI_poly, crs=4326)"
   ]
  },
  {
   "cell_type": "markdown",
   "id": "0ff1c321-b17d-4485-a1e4-b47b13f5d799",
   "metadata": {
    "pycharm": {
     "name": "#%% md\n"
    }
   },
   "source": [
    "## Visualize with matplotlib"
   ]
  },
  {
   "cell_type": "code",
   "execution_count": null,
   "id": "ddf681d6-6962-4051-b127-5ed1bbbc9903",
   "metadata": {
    "pycharm": {
     "name": "#%%\n"
    }
   },
   "outputs": [],
   "source": [
    "import matplotlib.pyplot as plt\n",
    "import cartopy.crs as ccrs"
   ]
  },
  {
   "cell_type": "code",
   "execution_count": null,
   "id": "4910b50f-53e7-4e12-9103-d9ae5ac916d6",
   "metadata": {
    "tags": [],
    "pycharm": {
     "name": "#%%\n"
    }
   },
   "outputs": [],
   "source": [
    "fig = plt.figure(1, figsize=[20, 10])\n",
    "\n",
    "# We're using cartopy and are plotting in PlateCarree projection \n",
    "# (see documentation on cartopy)\n",
    "ax = plt.subplot(1, 1, 1, projection=ccrs.PlateCarree())\n",
    "#ax.set_extent([15.5, 27.5, 36, 41], crs=ccrs.PlateCarree()) # lon1 lon2 lat1 lat2\n",
    "ax.coastlines(resolution='10m')\n",
    "ax.gridlines(draw_labels=True)\n",
    "\n",
    "NDVI_AOI.sel(time='2022-06-01').plot(ax=ax, transform=ccrs.PlateCarree(), cmap=\"RdYlGn\")\n",
    "\n",
    "# One way to customize your title\n",
    "plt.title(\"S3 NDVI over Lombardia\", fontsize=18)"
   ]
  },
  {
   "cell_type": "markdown",
   "id": "593c4f57-10e5-429b-aca1-54edbc275cbf",
   "metadata": {
    "pycharm": {
     "name": "#%% md\n"
    }
   },
   "source": [
    "## Visualization with HoloViews"
   ]
  },
  {
   "cell_type": "code",
   "execution_count": null,
   "id": "c19ae8fd-31db-4dcd-a993-e5508ece3a18",
   "metadata": {
    "pycharm": {
     "name": "#%%\n"
    }
   },
   "outputs": [],
   "source": [
    "import holoviews as hv\n",
    "import hvplot.xarray\n",
    "import hvplot.pandas"
   ]
  },
  {
   "cell_type": "markdown",
   "id": "5dd2806e-0b79-472f-9fe9-3e0c58789fe0",
   "metadata": {
    "pycharm": {
     "name": "#%% md\n"
    }
   },
   "source": [
    "Plotting data through the HoloViews back-end thanks to the hvplot that acts as high-level plotting API."
   ]
  },
  {
   "cell_type": "code",
   "execution_count": null,
   "id": "219bfbc3-a986-43f3-b5b8-71688f4744ee",
   "metadata": {
    "pycharm": {
     "name": "#%%\n"
    }
   },
   "outputs": [],
   "source": [
    "NDVI_AOI.isel(time=0).hvplot(cmap=\"RdYlGn\", width=1000, height=1000)"
   ]
  },
  {
   "cell_type": "markdown",
   "id": "f1d16e7e-a627-472d-9190-da36a60a2da3",
   "metadata": {
    "pycharm": {
     "name": "#%% md\n"
    }
   },
   "source": [
    "Having a look to data distribution can reveal a lot about the data."
   ]
  },
  {
   "cell_type": "code",
   "execution_count": null,
   "id": "e8574ead-7db4-448c-af56-bbb9543a995c",
   "metadata": {
    "pycharm": {
     "name": "#%%\n"
    }
   },
   "outputs": [],
   "source": [
    "NDVI_AOI[0].hvplot.hist(cmap=\"RdYlGn\",bins=25, width=800, height=700)"
   ]
  },
  {
   "cell_type": "markdown",
   "id": "f12c0691-43db-4c94-9448-0b085160e898",
   "metadata": {
    "pycharm": {
     "name": "#%% md\n"
    }
   },
   "source": [
    "### Multi-plots using groupby\n",
    "\n",
    "To be able to visualize interactively all the different available times, we can use `groupby` time."
   ]
  },
  {
   "cell_type": "code",
   "execution_count": null,
   "id": "680ddb71-7b72-4bc4-a16e-c7432b58869c",
   "metadata": {
    "pycharm": {
     "name": "#%%\n"
    }
   },
   "outputs": [],
   "source": [
    "NDVI_AOI.hvplot(groupby ='time', cmap=\"RdYlGn\", width=800, height=700)"
   ]
  },
  {
   "cell_type": "markdown",
   "id": "3ab29bab-542b-49d0-adb0-bcf47eaf4bb4",
   "metadata": {
    "pycharm": {
     "name": "#%% md\n"
    }
   },
   "source": [
    "We can add a histogram to the visualization."
   ]
  },
  {
   "cell_type": "code",
   "execution_count": null,
   "id": "3ca7da60-df03-43ce-8871-08586008eab1",
   "metadata": {
    "pycharm": {
     "name": "#%%\n"
    }
   },
   "outputs": [],
   "source": [
    "NDVI_AOI.hvplot(groupby='time', cmap='RdYlGn', width=800, height=700 ).hist()"
   ]
  },
  {
   "cell_type": "markdown",
   "id": "e940f0bb-c610-4654-885a-31bb9adf406d",
   "metadata": {
    "pycharm": {
     "name": "#%% md\n"
    }
   },
   "source": [
    "### Plot a single point over the time dimension"
   ]
  },
  {
   "cell_type": "code",
   "execution_count": null,
   "id": "836ff2c2-1026-4f66-987b-38f77df811cd",
   "metadata": {
    "pycharm": {
     "name": "#%%\n"
    }
   },
   "outputs": [],
   "source": [
    "NDVI_AOI.sel(lat=45.88, lon=8.63, method='nearest').hvplot(ylim=(-0.08, 0.92))"
   ]
  },
  {
   "cell_type": "markdown",
   "id": "244094e9-e6d5-46c9-9b3c-08592cea3100",
   "metadata": {
    "pycharm": {
     "name": "#%% md\n"
    }
   },
   "source": [
    "<div class=\"alert alert-success\">\n",
    "    <i class=\"fa-check-circle fa\" style=\"font-size: 22px;color:#666;\"></i> <b>Key Points</b>\n",
    "    <br>\n",
    "    <ul>\n",
    "        <li>Rioxarray for clipping over an area of interest</li>\n",
    "        <li>Interactive plot with HoloViews and Xarray</li>\n",
    "    </ul>\n",
    "</div>"
   ]
  },
  {
   "cell_type": "markdown",
   "source": [],
   "metadata": {
    "collapsed": false,
    "pycharm": {
     "name": "#%% md\n"
    }
   }
  },
  {
   "cell_type": "markdown",
   "source": [
    "## References\n",
    "\n",
    "```{bibliography}\n",
    ":style: alpha\n",
    ":filter: topic % \"visualization\" and not topic % \"package\"\n",
    ":keyprefix: b-\n",
    "```"
   ],
   "metadata": {
    "collapsed": false,
    "pycharm": {
     "name": "#%% md\n"
    }
   }
  },
  {
   "cell_type": "markdown",
   "source": [
    "## Packages citation\n",
    "\n",
    "```{bibliography}\n",
    ":style: alpha\n",
    ":filter: topic % \"visualization\" and topic % \"package\"\n",
    ":keyprefix: b-\n",
    "```"
   ],
   "metadata": {
    "collapsed": false,
    "pycharm": {
     "name": "#%% md\n"
    }
   }
  }
 ],
 "metadata": {
  "kernelspec": {
   "display_name": "Python 3 (ipykernel)",
   "language": "python",
   "name": "python3"
  },
  "language_info": {
   "codemirror_mode": {
    "name": "ipython",
    "version": 3
   },
   "file_extension": ".py",
   "mimetype": "text/x-python",
   "name": "python",
   "nbconvert_exporter": "python",
   "pygments_lexer": "ipython3",
   "version": "3.9.13"
  }
 },
 "nbformat": 4,
 "nbformat_minor": 5
}